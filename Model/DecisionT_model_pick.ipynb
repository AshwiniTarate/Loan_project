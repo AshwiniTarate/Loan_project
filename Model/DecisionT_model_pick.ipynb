{
 "cells": [
  {
   "cell_type": "code",
   "execution_count": 5,
   "metadata": {},
   "outputs": [],
   "source": [
    "import pickle\n",
    "import json\n",
    "import numpy as np\n",
    "\n",
    "decision_tree=pickle.load(open('artifacts\\loan dt model.pickle','rb'))"
   ]
  },
  {
   "cell_type": "code",
   "execution_count": 12,
   "metadata": {},
   "outputs": [],
   "source": [
    "file=json.load(open('artifacts\\saved feature names','r'))['data_columns']\n",
    "home_col = json.load(open('artifacts\\home ownership column names','r'))['home_columns']\n",
    "purp_col = json.load(open('artifacts\\purpose column names','r'))['purpose_columns']\n",
    "add_col = json.load(open('artifacts\\state names','r'))['addr_columns']\n",
    "mon_col = json.load(open('artifacts\\months column names','r'))['month_column']\n",
    "verify_col = json.load(open('artifacts\\Verifed status','r'))['verify_column']"
   ]
  },
  {
   "cell_type": "code",
   "execution_count": 13,
   "metadata": {},
   "outputs": [
    {
     "data": {
      "text/plain": [
       "82"
      ]
     },
     "execution_count": 13,
     "metadata": {},
     "output_type": "execute_result"
    }
   ],
   "source": [
    "len(file)"
   ]
  },
  {
   "cell_type": "code",
   "execution_count": 14,
   "metadata": {},
   "outputs": [],
   "source": [
    "def prediction_BadLoan(loan_amount,months,interest_rate,emp_length,home_ownership,annual_income,purpose,address_state,dti,delinq_2yrs,revolution_util,total_accounts,longest_credit_length,verification_status):\n",
    "    mon = months.lower()\n",
    "    month =file.index(mon)\n",
    "    \n",
    "    home_ownership = home_ownership.lower()\n",
    "    home_own = file.index(home_ownership)\n",
    "    \n",
    "    purpose = purpose.lower()\n",
    "    purp = file.index(purpose)\n",
    "    \n",
    "    address_state = address_state.lower()\n",
    "    add_st = file.index(address_state)\n",
    "    \n",
    "    verification_status=verification_status.lower()\n",
    "    verify = file.index(verification_status)\n",
    "\n",
    "    m = np.zeros(len(file))\n",
    "    \n",
    "    m[0] = loan_amount\n",
    "    m[month] = 1\n",
    "    m[2] = float(interest_rate)\n",
    "    m[3] = float(emp_length)\n",
    "    m[home_own] = 1 \n",
    "    m[4] = float(annual_income)\n",
    "    m[purp] = 1\n",
    "    m[add_st] = 1\n",
    "    m[5] = float(dti)\n",
    "    m[6] = delinq_2yrs\n",
    "    m[7] = revolution_util\n",
    "    m[8] = total_accounts\n",
    "    m[9] = longest_credit_length\n",
    "    m[verify] = 1\n",
    "    return decision_tree.predict([m])[0]"
   ]
  },
  {
   "cell_type": "code",
   "execution_count": 15,
   "metadata": {},
   "outputs": [
    {
     "data": {
      "text/plain": [
       "0"
      ]
     },
     "execution_count": 15,
     "metadata": {},
     "output_type": "execute_result"
    }
   ],
   "source": [
    "prediction_BadLoan(1.265720,'60 months',15.27,0.0,'rent',10.308953,'car','GA',1.00,0,9.4,3.174802,26,'verified')"
   ]
  },
  {
   "cell_type": "code",
   "execution_count": 22,
   "metadata": {},
   "outputs": [],
   "source": [
    "def prediction_BadLoan(loan_amount,months,interest_rate,emp_length,home_ownership,annual_income,purpose,address_state,dti,delinq_2yrs,revolution_util,total_accounts,longest_credit_length,verification_status):\n",
    "    decision_tree=pickle.load(open('artifacts\\loan dt model.pickle','rb'))\n",
    "    \n",
    "    file=json.load(open('artifacts\\saved feature names','r'))['data_columns']\n",
    "    mon = months.lower()\n",
    "    month =file.index(mon)\n",
    "    \n",
    "    home_ownership = home_ownership.lower()\n",
    "    home_own = file.index(home_ownership)\n",
    "    \n",
    "    purpose = purpose.lower()\n",
    "    purp = file.index(purpose)\n",
    "    \n",
    "    address_state = address_state.lower()\n",
    "    add_st = file.index(address_state)\n",
    "    \n",
    "    verification_status=verification_status.lower()\n",
    "    verify = file.index(verification_status)\n",
    "    m = np.zeros(len(file))\n",
    "    \n",
    "    m[0] = loan_amount\n",
    "    m[month] = 1\n",
    "    m[2] = float(interest_rate)\n",
    "    m[3] = float(emp_length)\n",
    "    m[home_own] = 1 \n",
    "    m[4] = float(annual_income)\n",
    "    m[purp] = 1\n",
    "    m[add_st] = 1\n",
    "    m[5] = float(dti)\n",
    "    m[6] = delinq_2yrs\n",
    "    m[7] = revolution_util\n",
    "    m[8] = total_accounts\n",
    "    m[9] = longest_credit_length\n",
    "    m[verify] = 1\n",
    "    return decision_tree.predict([m])[0]"
   ]
  },
  {
   "cell_type": "code",
   "execution_count": 23,
   "metadata": {},
   "outputs": [
    {
     "data": {
      "text/plain": [
       "0"
      ]
     },
     "execution_count": 23,
     "metadata": {},
     "output_type": "execute_result"
    }
   ],
   "source": [
    "prediction_BadLoan(1.265720,'60 months',15.27,0.0,'rent',10.308953,'car','GA',1.00,0,9.4,3.174802,26,'verified')"
   ]
  },
  {
   "cell_type": "code",
   "execution_count": null,
   "metadata": {},
   "outputs": [],
   "source": []
  }
 ],
 "metadata": {
  "kernelspec": {
   "display_name": "Python 3",
   "language": "python",
   "name": "python3"
  },
  "language_info": {
   "codemirror_mode": {
    "name": "ipython",
    "version": 3
   },
   "file_extension": ".py",
   "mimetype": "text/x-python",
   "name": "python",
   "nbconvert_exporter": "python",
   "pygments_lexer": "ipython3",
   "version": "3.8.5"
  }
 },
 "nbformat": 4,
 "nbformat_minor": 4
}
